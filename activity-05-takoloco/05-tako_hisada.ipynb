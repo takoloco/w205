{
 "cells": [
  {
   "cell_type": "markdown",
   "metadata": {},
   "source": [
    "# Question 1: What are the peak hours for commuters (morning and evening)? #"
   ]
  },
  {
   "cell_type": "markdown",
   "metadata": {},
   "source": [
    "## Morning ##"
   ]
  },
  {
   "cell_type": "code",
   "execution_count": 4,
   "metadata": {},
   "outputs": [],
   "source": [
    "import pandas as pd\n",
    "%matplotlib inline\n",
    "from matplotlib import pyplot as plt\n",
    "import numpy as np"
   ]
  },
  {
   "cell_type": "code",
   "execution_count": 2,
   "metadata": {},
   "outputs": [
    {
     "name": "stdout",
     "output_type": "stream",
     "text": [
      "Waiting on bqjob_r69e673ffc98ce096_00000161b245863d_1 ... (0s) Current status: DONE   \n",
      "+------------+--------+\n",
      "| start_hour |  num   |\n",
      "+------------+--------+\n",
      "| 08         | 132464 |\n",
      "| 09         |  96118 |\n",
      "| 07         |  67531 |\n",
      "+------------+--------+\n"
     ]
    }
   ],
   "source": [
    "! bq query --use_legacy_sql=FALSE 'SELECT \\\n",
    "  FORMAT_TIMESTAMP(\"%H\", \\\n",
    "    start_date) start_hour, \\\n",
    "  COUNT(*) num \\\n",
    "FROM \\\n",
    "  `bigquery-public-data.san_francisco.bikeshare_trips` \\\n",
    "GROUP BY \\\n",
    "  start_hour \\\n",
    "HAVING \\\n",
    "  CAST(start_hour as INT64) < 12 \\\n",
    "ORDER BY \\\n",
    "  num DESC \\\n",
    "LIMIT 3'"
   ]
  },
  {
   "cell_type": "code",
   "execution_count": 3,
   "metadata": {},
   "outputs": [
    {
     "name": "stdout",
     "output_type": "stream",
     "text": [
      "\r",
      "Waiting on bqjob_r3274d93ed442ca7d_00000161b2459265_1 ... (0s) Current status: DONE   "
     ]
    }
   ],
   "source": [
    "! bq query --use_legacy_sql=FALSE --format=csv 'SELECT \\\n",
    "  FORMAT_TIMESTAMP(\"%H\", \\\n",
    "    start_date) start_hour, \\\n",
    "  COUNT(*) num \\\n",
    "FROM \\\n",
    "  `bigquery-public-data.san_francisco.bikeshare_trips` \\\n",
    "GROUP BY \\\n",
    "  start_hour \\\n",
    "HAVING \\\n",
    "  CAST(start_hour as INT64) < 12 \\\n",
    "ORDER BY \\\n",
    "  start_hour ASC ' > q1_morning.csv"
   ]
  },
  {
   "cell_type": "code",
   "execution_count": 4,
   "metadata": {},
   "outputs": [
    {
     "data": {
      "text/plain": [
       "(12, 2)"
      ]
     },
     "execution_count": 4,
     "metadata": {},
     "output_type": "execute_result"
    }
   ],
   "source": [
    "morning_peak_hours=pd.read_csv('q1_morning.csv')\n",
    "morning_peak_hours.shape"
   ]
  },
  {
   "cell_type": "code",
   "execution_count": 5,
   "metadata": {},
   "outputs": [
    {
     "data": {
      "image/png": "[encoded data removed]",
      "text/plain": [
       "<matplotlib.figure.Figure at 0x7f92905ceeb8>"
      ]
     },
     "metadata": {},
     "output_type": "display_data"
    }
   ],
   "source": [
    "# Append am to all the hours\n",
    "hours = morning_peak_hours['start_hour'].astype(str) + 'am'\n",
    "\n",
    "bar_chart = plt.bar(morning_peak_hours['start_hour'], morning_peak_hours['num'])\n",
    "\n",
    "# Change color for the peak hours\n",
    "bar_chart[7].set_color('r')\n",
    "bar_chart[8].set_color('r')\n",
    "bar_chart[9].set_color('r')\n",
    "\n",
    "plt.xticks(morning_peak_hours['start_hour'], hours)\n",
    "plt.ylabel('Commuters')\n",
    "plt.title('Q1: Peak hours for commuters - Morning')\n",
    "plt.show()"
   ]
  },
  {
   "cell_type": "markdown",
   "metadata": {},
   "source": [
    "## Evening ##"
   ]
  },
  {
   "cell_type": "code",
   "execution_count": 6,
   "metadata": {},
   "outputs": [
    {
     "name": "stdout",
     "output_type": "stream",
     "text": [
      "Waiting on bqjob_r3fa35b0bdbcc2798_00000161b2459df9_1 ... (0s) Current status: DONE   \n",
      "+------------+--------+\n",
      "| start_hour |  num   |\n",
      "+------------+--------+\n",
      "| 17         | 126302 |\n",
      "| 16         |  88755 |\n",
      "| 18         |  84569 |\n",
      "+------------+--------+\n"
     ]
    }
   ],
   "source": [
    "! bq query --use_legacy_sql=FALSE 'SELECT \\\n",
    "  FORMAT_TIMESTAMP(\"%H\", \\\n",
    "    start_date) start_hour, \\\n",
    "  COUNT(*) num \\\n",
    "FROM \\\n",
    "  `bigquery-public-data.san_francisco.bikeshare_trips` \\\n",
    "GROUP BY \\\n",
    "  start_hour \\\n",
    "HAVING \\\n",
    "  CAST(start_hour as INT64) >= 12 \\\n",
    "ORDER BY \\\n",
    "  num DESC \\\n",
    "LIMIT 3'"
   ]
  },
  {
   "cell_type": "code",
   "execution_count": 7,
   "metadata": {},
   "outputs": [
    {
     "name": "stdout",
     "output_type": "stream",
     "text": [
      "\r",
      "Waiting on bqjob_r1b069e9af4418d1c_00000161b245a947_1 ... (0s) Current status: DONE   "
     ]
    }
   ],
   "source": [
    "! bq query --use_legacy_sql=FALSE --format=csv 'SELECT \\\n",
    "  FORMAT_TIMESTAMP(\"%H\", \\\n",
    "    start_date) start_hour, \\\n",
    "  COUNT(*) num \\\n",
    "FROM \\\n",
    "  `bigquery-public-data.san_francisco.bikeshare_trips` \\\n",
    "GROUP BY \\\n",
    "  start_hour \\\n",
    "HAVING \\\n",
    "  CAST(start_hour as INT64) >= 12 \\\n",
    "ORDER BY \\\n",
    "  start_hour ASC ' > q1_evening.csv"
   ]
  },
  {
   "cell_type": "code",
   "execution_count": 8,
   "metadata": {},
   "outputs": [
    {
     "data": {
      "text/plain": [
       "(12, 2)"
      ]
     },
     "execution_count": 8,
     "metadata": {},
     "output_type": "execute_result"
    }
   ],
   "source": [
    "evening_peak_hours=pd.read_csv('q1_evening.csv')\n",
    "evening_peak_hours.shape"
   ]
  },
  {
   "cell_type": "code",
   "execution_count": 9,
   "metadata": {},
   "outputs": [
    {
     "data": {
      "image/png": "[encoded data removed]",
      "text/plain": [
       "<matplotlib.figure.Figure at 0x7f928fd23f28>"
      ]
     },
     "metadata": {},
     "output_type": "display_data"
    }
   ],
   "source": [
    "# Append pm to all the hours\n",
    "hours = evening_peak_hours['start_hour'].astype(str) + 'pm' \n",
    "\n",
    "bar_chart = plt.bar(evening_peak_hours['start_hour'], evening_peak_hours['num'])\n",
    "\n",
    "# Change color for the peak hours\n",
    "bar_chart[3].set_color('r')\n",
    "bar_chart[4].set_color('r')\n",
    "bar_chart[5].set_color('r')\n",
    "\n",
    "plt.xticks(evening_peak_hours['start_hour'], hours)\n",
    "plt.ylabel('Commuters')\n",
    "plt.title('Q1: Peak hours for commuters - Evening')\n",
    "plt.show()"
   ]
  },
  {
   "cell_type": "markdown",
   "metadata": {},
   "source": [
    "## Answer ##\n",
    "\n",
    "The peak hours are:\n",
    "\n",
    "* Morning: 7-10am\n",
    "* Evening: 4-7pm"
   ]
  },
  {
   "cell_type": "markdown",
   "metadata": {},
   "source": [
    "# Question 2: What is the most popular type of subscriber (subscriber vs customer) during the peak hours in Question 1? #"
   ]
  },
  {
   "cell_type": "markdown",
   "metadata": {},
   "source": [
    "## Morning ##"
   ]
  },
  {
   "cell_type": "code",
   "execution_count": 10,
   "metadata": {},
   "outputs": [
    {
     "name": "stdout",
     "output_type": "stream",
     "text": [
      "Waiting on bqjob_r368bd1ebd22881fc_00000161b245b464_1 ... (0s) Current status: DONE   \n",
      "+------------+-----------------+--------+\n",
      "| start_hour | subscriber_type |  num   |\n",
      "+------------+-----------------+--------+\n",
      "| 08         | Subscriber      | 127171 |\n",
      "| 09         | Subscriber      |  89546 |\n",
      "| 07         | Subscriber      |  64946 |\n",
      "| 10         | Subscriber      |  34532 |\n",
      "| 10         | Customer        |   8250 |\n",
      "| 09         | Customer        |   6572 |\n",
      "| 08         | Customer        |   5293 |\n",
      "| 07         | Customer        |   2585 |\n",
      "+------------+-----------------+--------+\n"
     ]
    }
   ],
   "source": [
    "! bq query --use_legacy_sql=FALSE 'SELECT \\\n",
    "  FORMAT_TIMESTAMP(\"%H\", \\\n",
    "    start_date) start_hour, \\\n",
    "  subscriber_type, \\\n",
    "  COUNT(*) num \\\n",
    "FROM \\\n",
    "  `bigquery-public-data.san_francisco.bikeshare_trips` \\\n",
    "GROUP BY \\\n",
    "  start_hour, subscriber_type \\\n",
    "HAVING \\\n",
    "  CAST(start_hour as INT64) BETWEEN 7 AND 10 \\\n",
    "ORDER BY \\\n",
    "  num DESC'"
   ]
  },
  {
   "cell_type": "code",
   "execution_count": 11,
   "metadata": {},
   "outputs": [
    {
     "name": "stdout",
     "output_type": "stream",
     "text": [
      "\r",
      "Waiting on bqjob_r7f99d004f3ed1512_00000161b245bf20_1 ... (0s) Current status: DONE   "
     ]
    }
   ],
   "source": [
    "! bq query --use_legacy_sql=FALSE --format=csv 'SELECT \\\n",
    "  FORMAT_TIMESTAMP(\"%H\", \\\n",
    "    start_date) start_hour, \\\n",
    "  subscriber_type, \\\n",
    "  COUNT(*) num \\\n",
    "FROM \\\n",
    "  `bigquery-public-data.san_francisco.bikeshare_trips` \\\n",
    "GROUP BY \\\n",
    "  start_hour, subscriber_type \\\n",
    "HAVING \\\n",
    "  CAST(start_hour as INT64) BETWEEN 7 AND 10 \\\n",
    "ORDER BY \\\n",
    "  start_hour ASC' > q2_morning.csv"
   ]
  },
  {
   "cell_type": "code",
   "execution_count": 12,
   "metadata": {},
   "outputs": [
    {
     "data": {
      "text/plain": [
       "(8, 3)"
      ]
     },
     "execution_count": 12,
     "metadata": {},
     "output_type": "execute_result"
    }
   ],
   "source": [
    "morning_subscribers=pd.read_csv('q2_morning.csv')\n",
    "morning_subscribers.shape"
   ]
  },
  {
   "cell_type": "code",
   "execution_count": 13,
   "metadata": {},
   "outputs": [
    {
     "data": {
      "text/html": [
       "<div>\n",
       "<style scoped>\n",
       "    .dataframe tbody tr th:only-of-type {\n",
       "        vertical-align: middle;\n",
       "    }\n",
       "\n",
       "    .dataframe tbody tr th {\n",
       "        vertical-align: top;\n",
       "    }\n",
       "\n",
       "    .dataframe thead th {\n",
       "        text-align: right;\n",
       "    }\n",
       "</style>\n",
       "<table border=\"1\" class=\"dataframe\">\n",
       "  <thead>\n",
       "    <tr style=\"text-align: right;\">\n",
       "      <th></th>\n",
       "      <th>start_hour</th>\n",
       "      <th>subscriber_type</th>\n",
       "      <th>num</th>\n",
       "    </tr>\n",
       "  </thead>\n",
       "  <tbody>\n",
       "    <tr>\n",
       "      <th>0</th>\n",
       "      <td>7</td>\n",
       "      <td>Subscriber</td>\n",
       "      <td>64946</td>\n",
       "    </tr>\n",
       "    <tr>\n",
       "      <th>1</th>\n",
       "      <td>7</td>\n",
       "      <td>Customer</td>\n",
       "      <td>2585</td>\n",
       "    </tr>\n",
       "    <tr>\n",
       "      <th>2</th>\n",
       "      <td>8</td>\n",
       "      <td>Subscriber</td>\n",
       "      <td>127171</td>\n",
       "    </tr>\n",
       "    <tr>\n",
       "      <th>3</th>\n",
       "      <td>8</td>\n",
       "      <td>Customer</td>\n",
       "      <td>5293</td>\n",
       "    </tr>\n",
       "    <tr>\n",
       "      <th>4</th>\n",
       "      <td>9</td>\n",
       "      <td>Customer</td>\n",
       "      <td>6572</td>\n",
       "    </tr>\n",
       "    <tr>\n",
       "      <th>5</th>\n",
       "      <td>9</td>\n",
       "      <td>Subscriber</td>\n",
       "      <td>89546</td>\n",
       "    </tr>\n",
       "    <tr>\n",
       "      <th>6</th>\n",
       "      <td>10</td>\n",
       "      <td>Customer</td>\n",
       "      <td>8250</td>\n",
       "    </tr>\n",
       "    <tr>\n",
       "      <th>7</th>\n",
       "      <td>10</td>\n",
       "      <td>Subscriber</td>\n",
       "      <td>34532</td>\n",
       "    </tr>\n",
       "  </tbody>\n",
       "</table>\n",
       "</div>"
      ],
      "text/plain": [
       "   start_hour subscriber_type     num\n",
       "0           7      Subscriber   64946\n",
       "1           7        Customer    2585\n",
       "2           8      Subscriber  127171\n",
       "3           8        Customer    5293\n",
       "4           9        Customer    6572\n",
       "5           9      Subscriber   89546\n",
       "6          10        Customer    8250\n",
       "7          10      Subscriber   34532"
      ]
     },
     "execution_count": 13,
     "metadata": {},
     "output_type": "execute_result"
    }
   ],
   "source": [
    "morning_subscribers"
   ]
  },
  {
   "cell_type": "code",
   "execution_count": 14,
   "metadata": {},
   "outputs": [
    {
     "data": {
      "image/png": "[encoded data removed]",
      "text/plain": [
       "<matplotlib.figure.Figure at 0x7f928dc82da0>"
      ]
     },
     "metadata": {},
     "output_type": "display_data"
    }
   ],
   "source": [
    "N = 4\n",
    "# Append pm to all the hours\n",
    "hours = morning_subscribers[morning_subscribers['subscriber_type'] == 'Subscriber']['start_hour'].astype(str) + 'am'\n",
    "subscribers = morning_subscribers[morning_subscribers['subscriber_type'] == 'Subscriber']['num']\n",
    "customers = morning_subscribers[morning_subscribers['subscriber_type'] == 'Customer']['num']\n",
    "ind = np.arange(N)    # the x locations for the groups\n",
    "width = 0.35       # the width of the bars: can also be len(x) sequence\n",
    "\n",
    "p1 = plt.bar(ind, subscribers, width, color='#d62728')\n",
    "p2 = plt.bar(ind, customers, width,\n",
    "             bottom=subscribers)\n",
    "\n",
    "plt.ylabel('Subscribers')\n",
    "plt.title('Q2 - Subscribers during peak hours - Morning')\n",
    "plt.xticks(ind, hours)\n",
    "\n",
    "plt.show()"
   ]
  },
  {
   "cell_type": "markdown",
   "metadata": {},
   "source": [
    "## Evening ##"
   ]
  },
  {
   "cell_type": "code",
   "execution_count": 15,
   "metadata": {},
   "outputs": [
    {
     "name": "stdout",
     "output_type": "stream",
     "text": [
      "Waiting on bqjob_r9981a486889bdc9_00000161b245cae4_1 ... (0s) Current status: DONE   \n",
      "+------------+-----------------+--------+\n",
      "| start_hour | subscriber_type |  num   |\n",
      "+------------+-----------------+--------+\n",
      "| 17         | Subscriber      | 114915 |\n",
      "| 16         | Subscriber      |  76051 |\n",
      "| 18         | Subscriber      |  75798 |\n",
      "| 19         | Subscriber      |  35515 |\n",
      "| 16         | Customer        |  12704 |\n",
      "| 17         | Customer        |  11387 |\n",
      "| 18         | Customer        |   8771 |\n",
      "| 19         | Customer        |   5556 |\n",
      "+------------+-----------------+--------+\n"
     ]
    }
   ],
   "source": [
    "! bq query --use_legacy_sql=FALSE 'SELECT \\\n",
    "  FORMAT_TIMESTAMP(\"%H\", \\\n",
    "    start_date) start_hour, \\\n",
    "  subscriber_type, \\\n",
    "  COUNT(*) num \\\n",
    "FROM \\\n",
    "  `bigquery-public-data.san_francisco.bikeshare_trips` \\\n",
    "GROUP BY \\\n",
    "  start_hour, \\\n",
    "  subscriber_type \\\n",
    "HAVING \\\n",
    "  CAST(start_hour AS INT64) BETWEEN 16 AND 19 \\\n",
    "ORDER BY \\\n",
    "  num DESC'"
   ]
  },
  {
   "cell_type": "code",
   "execution_count": 16,
   "metadata": {},
   "outputs": [
    {
     "name": "stdout",
     "output_type": "stream",
     "text": [
      "\r",
      "Waiting on bqjob_r3d7986be2a6943fa_00000161b245d57e_1 ... (0s) Current status: DONE   "
     ]
    }
   ],
   "source": [
    "! bq query --use_legacy_sql=FALSE --format=csv 'SELECT \\\n",
    "  FORMAT_TIMESTAMP(\"%H\", \\\n",
    "    start_date) start_hour, \\\n",
    "  subscriber_type, \\\n",
    "  COUNT(*) num \\\n",
    "FROM \\\n",
    "  `bigquery-public-data.san_francisco.bikeshare_trips` \\\n",
    "GROUP BY \\\n",
    "  start_hour, subscriber_type \\\n",
    "HAVING \\\n",
    "  CAST(start_hour as INT64) BETWEEN 16 AND 19 \\\n",
    "ORDER BY \\\n",
    "  start_hour ASC' > q2_evening.csv"
   ]
  },
  {
   "cell_type": "code",
   "execution_count": 17,
   "metadata": {},
   "outputs": [
    {
     "data": {
      "text/plain": [
       "(8, 3)"
      ]
     },
     "execution_count": 17,
     "metadata": {},
     "output_type": "execute_result"
    }
   ],
   "source": [
    "evening_subscribers=pd.read_csv('q2_evening.csv')\n",
    "evening_subscribers.shape"
   ]
  },
  {
   "cell_type": "code",
   "execution_count": 18,
   "metadata": {},
   "outputs": [
    {
     "data": {
      "text/html": [
       "<div>\n",
       "<style scoped>\n",
       "    .dataframe tbody tr th:only-of-type {\n",
       "        vertical-align: middle;\n",
       "    }\n",
       "\n",
       "    .dataframe tbody tr th {\n",
       "        vertical-align: top;\n",
       "    }\n",
       "\n",
       "    .dataframe thead th {\n",
       "        text-align: right;\n",
       "    }\n",
       "</style>\n",
       "<table border=\"1\" class=\"dataframe\">\n",
       "  <thead>\n",
       "    <tr style=\"text-align: right;\">\n",
       "      <th></th>\n",
       "      <th>start_hour</th>\n",
       "      <th>subscriber_type</th>\n",
       "      <th>num</th>\n",
       "    </tr>\n",
       "  </thead>\n",
       "  <tbody>\n",
       "    <tr>\n",
       "      <th>0</th>\n",
       "      <td>16</td>\n",
       "      <td>Customer</td>\n",
       "      <td>12704</td>\n",
       "    </tr>\n",
       "    <tr>\n",
       "      <th>1</th>\n",
       "      <td>16</td>\n",
       "      <td>Subscriber</td>\n",
       "      <td>76051</td>\n",
       "    </tr>\n",
       "    <tr>\n",
       "      <th>2</th>\n",
       "      <td>17</td>\n",
       "      <td>Subscriber</td>\n",
       "      <td>114915</td>\n",
       "    </tr>\n",
       "    <tr>\n",
       "      <th>3</th>\n",
       "      <td>17</td>\n",
       "      <td>Customer</td>\n",
       "      <td>11387</td>\n",
       "    </tr>\n",
       "    <tr>\n",
       "      <th>4</th>\n",
       "      <td>18</td>\n",
       "      <td>Customer</td>\n",
       "      <td>8771</td>\n",
       "    </tr>\n",
       "    <tr>\n",
       "      <th>5</th>\n",
       "      <td>18</td>\n",
       "      <td>Subscriber</td>\n",
       "      <td>75798</td>\n",
       "    </tr>\n",
       "    <tr>\n",
       "      <th>6</th>\n",
       "      <td>19</td>\n",
       "      <td>Customer</td>\n",
       "      <td>5556</td>\n",
       "    </tr>\n",
       "    <tr>\n",
       "      <th>7</th>\n",
       "      <td>19</td>\n",
       "      <td>Subscriber</td>\n",
       "      <td>35515</td>\n",
       "    </tr>\n",
       "  </tbody>\n",
       "</table>\n",
       "</div>"
      ],
      "text/plain": [
       "   start_hour subscriber_type     num\n",
       "0          16        Customer   12704\n",
       "1          16      Subscriber   76051\n",
       "2          17      Subscriber  114915\n",
       "3          17        Customer   11387\n",
       "4          18        Customer    8771\n",
       "5          18      Subscriber   75798\n",
       "6          19        Customer    5556\n",
       "7          19      Subscriber   35515"
      ]
     },
     "execution_count": 18,
     "metadata": {},
     "output_type": "execute_result"
    }
   ],
   "source": [
    "evening_subscribers"
   ]
  },
  {
   "cell_type": "code",
   "execution_count": 19,
   "metadata": {},
   "outputs": [
    {
     "data": {
      "image/png": "[encoded data removed]",
      "text/plain": [
       "<matplotlib.figure.Figure at 0x7f928dc82588>"
      ]
     },
     "metadata": {},
     "output_type": "display_data"
    }
   ],
   "source": [
    "N = 4\n",
    "# Append pm to all the hours\n",
    "hours = evening_subscribers[evening_subscribers['subscriber_type'] == 'Subscriber']['start_hour'].astype(str) + 'pm'\n",
    "subscribers = evening_subscribers[evening_subscribers['subscriber_type'] == 'Subscriber']['num']\n",
    "customers = evening_subscribers[evening_subscribers['subscriber_type'] == 'Customer']['num']\n",
    "ind = np.arange(N)    # the x locations for the groups\n",
    "width = 0.35       # the width of the bars: can also be len(x) sequence\n",
    "\n",
    "p1 = plt.bar(ind, subscribers, width, color='#d62728')\n",
    "p2 = plt.bar(ind, customers, width,\n",
    "             bottom=subscribers)\n",
    "\n",
    "plt.ylabel('Subscribers')\n",
    "plt.title('Q2 - Subscribers during peak hours - Evening')\n",
    "plt.xticks(ind, hours)\n",
    "\n",
    "plt.show()"
   ]
  },
  {
   "cell_type": "markdown",
   "metadata": {},
   "source": [
    "## Answer ##\n",
    "As can be seen by the bar charts, there are considerably more subscribers than customers during the peak hours of 7-10am and 4-7pm."
   ]
  },
  {
   "cell_type": "markdown",
   "metadata": {},
   "source": [
    "# Question 3: What is the average trip duration for commuters identified in Questioni 2? #"
   ]
  },
  {
   "cell_type": "markdown",
   "metadata": {},
   "source": [
    "## Morning ##"
   ]
  },
  {
   "cell_type": "code",
   "execution_count": 20,
   "metadata": {},
   "outputs": [
    {
     "name": "stdout",
     "output_type": "stream",
     "text": [
      "Waiting on bqjob_r4cee706a54937184_00000161b245e0ea_1 ... (0s) Current status: DONE   \n",
      "+---------------+\n",
      "| trip_duration |\n",
      "+---------------+\n",
      "| 9.52          |\n",
      "+---------------+\n"
     ]
    }
   ],
   "source": [
    "! bq query --use_legacy_sql=FALSE 'SELECT \\\n",
    "  FORMAT(\"%.2F\", AVG(duration_sec)/60) trip_duration \\\n",
    "FROM \\\n",
    "  `bigquery-public-data.san_francisco.bikeshare_trips` \\\n",
    "WHERE \\\n",
    "  CAST( FORMAT_TIMESTAMP(\"%H\", \\\n",
    "      start_date) AS INT64) BETWEEN 7 AND 10 \\\n",
    "  AND LOWER(subscriber_type) = \"subscriber\" \\\n",
    "'"
   ]
  },
  {
   "cell_type": "code",
   "execution_count": 27,
   "metadata": {},
   "outputs": [
    {
     "name": "stdout",
     "output_type": "stream",
     "text": [
      "Waiting on bqjob_r45b1b7f65f1e9b14_00000161b7d306d0_1 ... (2s) Current status: DONE   "
     ]
    }
   ],
   "source": [
    "! bq query --use_legacy_sql=FALSE --format=csv --max_rows=400000 'SELECT \\\n",
    "  duration_sec/60 trip_duration \\\n",
    "FROM \\\n",
    "  `bigquery-public-data.san_francisco.bikeshare_trips` \\\n",
    "WHERE \\\n",
    "  CAST( FORMAT_TIMESTAMP(\"%H\", \\\n",
    "      start_date) AS INT64) BETWEEN 7 AND 10 \\\n",
    "  AND LOWER(subscriber_type) = \"subscriber\" \\\n",
    "  ORDER by trip_duration' > q3_morning.csv"
   ]
  },
  {
   "cell_type": "code",
   "execution_count": 28,
   "metadata": {},
   "outputs": [
    {
     "data": {
      "text/plain": [
       "(316195, 1)"
      ]
     },
     "execution_count": 28,
     "metadata": {},
     "output_type": "execute_result"
    }
   ],
   "source": [
    "trip_durations_morning=pd.read_csv('q3_morning.csv')\n",
    "trip_durations_morning.shape"
   ]
  },
  {
   "cell_type": "code",
   "execution_count": 51,
   "metadata": {},
   "outputs": [
    {
     "data": {
      "text/html": [
       "<div>\n",
       "<style scoped>\n",
       "    .dataframe tbody tr th:only-of-type {\n",
       "        vertical-align: middle;\n",
       "    }\n",
       "\n",
       "    .dataframe tbody tr th {\n",
       "        vertical-align: top;\n",
       "    }\n",
       "\n",
       "    .dataframe thead th {\n",
       "        text-align: right;\n",
       "    }\n",
       "</style>\n",
       "<table border=\"1\" class=\"dataframe\">\n",
       "  <thead>\n",
       "    <tr style=\"text-align: right;\">\n",
       "      <th></th>\n",
       "      <th>trip_duration</th>\n",
       "    </tr>\n",
       "  </thead>\n",
       "  <tbody>\n",
       "    <tr>\n",
       "      <th>0</th>\n",
       "      <td>1.0</td>\n",
       "    </tr>\n",
       "    <tr>\n",
       "      <th>1</th>\n",
       "      <td>1.0</td>\n",
       "    </tr>\n",
       "    <tr>\n",
       "      <th>2</th>\n",
       "      <td>1.0</td>\n",
       "    </tr>\n",
       "    <tr>\n",
       "      <th>3</th>\n",
       "      <td>1.0</td>\n",
       "    </tr>\n",
       "    <tr>\n",
       "      <th>4</th>\n",
       "      <td>1.0</td>\n",
       "    </tr>\n",
       "  </tbody>\n",
       "</table>\n",
       "</div>"
      ],
      "text/plain": [
       "   trip_duration\n",
       "0            1.0\n",
       "1            1.0\n",
       "2            1.0\n",
       "3            1.0\n",
       "4            1.0"
      ]
     },
     "execution_count": 51,
     "metadata": {},
     "output_type": "execute_result"
    }
   ],
   "source": [
    "trip_durations_morning.head()"
   ]
  },
  {
   "cell_type": "code",
   "execution_count": 55,
   "metadata": {},
   "outputs": [
    {
     "data": {
      "image/png": "[encoded data removed]",
      "text/plain": [
       "<matplotlib.figure.Figure at 0x7fd68cec8748>"
      ]
     },
     "metadata": {},
     "output_type": "display_data"
    }
   ],
   "source": [
    "bins = [1, 5, 10, 25, 50, 100]\n",
    "hist = plt.hist(trip_durations_morning['trip_duration'], bins, histtype='bar', rwidth=0.8)\n",
    "\n",
    "plt.xlabel('Trip Duration')\n",
    "plt.title('Q3 - Average Trip Duration - Morning')\n",
    "\n",
    "plt.show()"
   ]
  },
  {
   "cell_type": "code",
   "execution_count": 23,
   "metadata": {},
   "outputs": [
    {
     "data": {
      "text/plain": [
       "9.520780594253544"
      ]
     },
     "execution_count": 23,
     "metadata": {},
     "output_type": "execute_result"
    }
   ],
   "source": [
    "np.average(morning_trip_durations)"
   ]
  },
  {
   "cell_type": "markdown",
   "metadata": {},
   "source": [
    "## Evening ##"
   ]
  },
  {
   "cell_type": "code",
   "execution_count": 24,
   "metadata": {},
   "outputs": [
    {
     "name": "stdout",
     "output_type": "stream",
     "text": [
      "Waiting on bqjob_r55898283642fdfe6_00000161b24617c3_1 ... (0s) Current status: DONE   \n",
      "+---------------+\n",
      "| trip_duration |\n",
      "+---------------+\n",
      "| 9.84          |\n",
      "+---------------+\n"
     ]
    }
   ],
   "source": [
    "! bq query --use_legacy_sql=FALSE 'SELECT \\\n",
    "  FORMAT(\"%.2F\", AVG(duration_sec)/60) trip_duration \\\n",
    "FROM \\\n",
    "  `bigquery-public-data.san_francisco.bikeshare_trips` \\\n",
    "WHERE \\\n",
    "  CAST( FORMAT_TIMESTAMP(\"%H\", \\\n",
    "      start_date) AS INT64) BETWEEN 16 AND 19 \\\n",
    "  AND LOWER(subscriber_type) = \"subscriber\" \\\n",
    "'"
   ]
  },
  {
   "cell_type": "code",
   "execution_count": 45,
   "metadata": {},
   "outputs": [
    {
     "name": "stdout",
     "output_type": "stream",
     "text": [
      "Waiting on bqjob_r2ce5bd2c6c83d8dd_00000161b7da9d7a_1 ... (1s) Current status: DONE   "
     ]
    }
   ],
   "source": [
    "! bq query --use_legacy_sql=FALSE --format=csv --max_rows=400000 'SELECT \\\n",
    "  duration_sec/60 trip_duration \\\n",
    "FROM \\\n",
    "  `bigquery-public-data.san_francisco.bikeshare_trips` \\\n",
    "WHERE \\\n",
    "  CAST( FORMAT_TIMESTAMP(\"%H\", \\\n",
    "      start_date) AS INT64) BETWEEN 16 AND 19 \\\n",
    "  AND LOWER(subscriber_type) = \"subscriber\" \\\n",
    "  ORDER by trip_duration' > q3_evening.csv"
   ]
  },
  {
   "cell_type": "code",
   "execution_count": 46,
   "metadata": {},
   "outputs": [
    {
     "data": {
      "text/plain": [
       "(302279, 1)"
      ]
     },
     "execution_count": 46,
     "metadata": {},
     "output_type": "execute_result"
    }
   ],
   "source": [
    "evening_trip_durations=pd.read_csv('q3_evening.csv')\n",
    "evening_trip_durations.shape"
   ]
  },
  {
   "cell_type": "code",
   "execution_count": 50,
   "metadata": {},
   "outputs": [
    {
     "data": {
      "text/html": [
       "<div>\n",
       "<style scoped>\n",
       "    .dataframe tbody tr th:only-of-type {\n",
       "        vertical-align: middle;\n",
       "    }\n",
       "\n",
       "    .dataframe tbody tr th {\n",
       "        vertical-align: top;\n",
       "    }\n",
       "\n",
       "    .dataframe thead th {\n",
       "        text-align: right;\n",
       "    }\n",
       "</style>\n",
       "<table border=\"1\" class=\"dataframe\">\n",
       "  <thead>\n",
       "    <tr style=\"text-align: right;\">\n",
       "      <th></th>\n",
       "      <th>trip_duration</th>\n",
       "    </tr>\n",
       "  </thead>\n",
       "  <tbody>\n",
       "    <tr>\n",
       "      <th>0</th>\n",
       "      <td>1.0</td>\n",
       "    </tr>\n",
       "    <tr>\n",
       "      <th>1</th>\n",
       "      <td>1.0</td>\n",
       "    </tr>\n",
       "    <tr>\n",
       "      <th>2</th>\n",
       "      <td>1.0</td>\n",
       "    </tr>\n",
       "    <tr>\n",
       "      <th>3</th>\n",
       "      <td>1.0</td>\n",
       "    </tr>\n",
       "    <tr>\n",
       "      <th>4</th>\n",
       "      <td>1.0</td>\n",
       "    </tr>\n",
       "  </tbody>\n",
       "</table>\n",
       "</div>"
      ],
      "text/plain": [
       "   trip_duration\n",
       "0            1.0\n",
       "1            1.0\n",
       "2            1.0\n",
       "3            1.0\n",
       "4            1.0"
      ]
     },
     "execution_count": 50,
     "metadata": {},
     "output_type": "execute_result"
    }
   ],
   "source": [
    "evening_trip_durations.head()"
   ]
  },
  {
   "cell_type": "code",
   "execution_count": 54,
   "metadata": {},
   "outputs": [
    {
     "data": {
      "image/png": "[encoded data removed]",
      "text/plain": [
       "<matplotlib.figure.Figure at 0x7fd68cf39320>"
      ]
     },
     "metadata": {},
     "output_type": "display_data"
    }
   ],
   "source": [
    "bins = [1, 5, 10, 25, 50, 100]\n",
    "hist = plt.hist(evening_trip_durations['trip_duration'], bins, histtype='bar', rwidth=0.8)\n",
    "\n",
    "plt.xlabel('Trip Duration')\n",
    "plt.title('Q3 - Average Trip Duration - Evening')\n",
    "\n",
    "plt.show()"
   ]
  },
  {
   "cell_type": "code",
   "execution_count": 27,
   "metadata": {},
   "outputs": [
    {
     "data": {
      "text/plain": [
       "9.842140241300257"
      ]
     },
     "execution_count": 27,
     "metadata": {},
     "output_type": "execute_result"
    }
   ],
   "source": [
    "np.average(evening_trip_durations)"
   ]
  },
  {
   "cell_type": "markdown",
   "metadata": {},
   "source": [
    "## Answer ##\n",
    "\n",
    "* Morning: 9.52 minutes\n",
    "* Evening: 9.84 minutes"
   ]
  },
  {
   "cell_type": "markdown",
   "metadata": {},
   "source": [
    "# Question 4: What are the 5 most popular trips taken by the commuters identified in Question 2 by time of the day (morning vs evening)? #"
   ]
  },
  {
   "cell_type": "markdown",
   "metadata": {},
   "source": [
    "## Morning ##"
   ]
  },
  {
   "cell_type": "code",
   "execution_count": 28,
   "metadata": {},
   "outputs": [
    {
     "name": "stdout",
     "output_type": "stream",
     "text": [
      "Waiting on bqjob_r61fd723cf281f1c8_00000161b24648f3_1 ... (0s) Current status: DONE   \n",
      "+------------------------------------------+-----------------------------------------------+------+\n",
      "|            start_station_name            |               end_station_name                | num  |\n",
      "+------------------------------------------+-----------------------------------------------+------+\n",
      "| Harry Bridges Plaza (Ferry Building)     | 2nd at Townsend                               | 4605 |\n",
      "| San Francisco Caltrain 2 (330 Townsend)  | Townsend at 7th                               | 4103 |\n",
      "| Steuart at Market                        | 2nd at Townsend                               | 4048 |\n",
      "| San Francisco Caltrain (Townsend at 4th) | Temporary Transbay Terminal (Howard at Beale) | 3581 |\n",
      "| San Francisco Caltrain (Townsend at 4th) | Embarcadero at Folsom                         | 3443 |\n",
      "+------------------------------------------+-----------------------------------------------+------+\n"
     ]
    }
   ],
   "source": [
    "! bq query --use_legacy_sql=FALSE 'SELECT \\\n",
    "  start_station_name, \\\n",
    "  end_station_name, \\\n",
    "  COUNT(*) num \\\n",
    "FROM \\\n",
    "  `bigquery-public-data.san_francisco.bikeshare_trips` \\\n",
    "WHERE \\\n",
    "  CAST( FORMAT_TIMESTAMP(\"%H\", \\\n",
    "      start_date) AS INT64) BETWEEN 7 AND 10 \\\n",
    "  AND LOWER(subscriber_type) = \"subscriber\" \\\n",
    "GROUP BY \\\n",
    "  start_station_name, \\\n",
    "  end_station_name \\\n",
    "ORDER BY \\\n",
    "  num DESC \\\n",
    "LIMIT \\\n",
    "  5 \\\n",
    "'"
   ]
  },
  {
   "cell_type": "code",
   "execution_count": 29,
   "metadata": {},
   "outputs": [
    {
     "name": "stdout",
     "output_type": "stream",
     "text": [
      "\r",
      "Waiting on bqjob_r5173225762ff68c0_00000161b24653f9_1 ... (0s) Current status: DONE   "
     ]
    }
   ],
   "source": [
    "! bq query --use_legacy_sql=FALSE --format=csv 'SELECT \\\n",
    "  start_station_name, \\\n",
    "  end_station_name, \\\n",
    "  COUNT(*) num \\\n",
    "FROM \\\n",
    "  `bigquery-public-data.san_francisco.bikeshare_trips` \\\n",
    "WHERE \\\n",
    "  CAST( FORMAT_TIMESTAMP(\"%H\", \\\n",
    "      start_date) AS INT64) BETWEEN 7 AND 10 \\\n",
    "  AND LOWER(subscriber_type) = \"subscriber\" \\\n",
    "GROUP BY \\\n",
    "  start_station_name, \\\n",
    "  end_station_name \\\n",
    "ORDER BY \\\n",
    "  num DESC \\\n",
    "LIMIT 25 \\\n",
    "' > q4_morning.csv"
   ]
  },
  {
   "cell_type": "code",
   "execution_count": 30,
   "metadata": {},
   "outputs": [
    {
     "data": {
      "text/plain": [
       "(25, 3)"
      ]
     },
     "execution_count": 30,
     "metadata": {},
     "output_type": "execute_result"
    }
   ],
   "source": [
    "morning_popular_trips=pd.read_csv('q4_morning.csv')\n",
    "morning_popular_trips.shape"
   ]
  },
  {
   "cell_type": "code",
   "execution_count": 31,
   "metadata": {},
   "outputs": [
    {
     "data": {
      "text/html": [
       "<div>\n",
       "<style scoped>\n",
       "    .dataframe tbody tr th:only-of-type {\n",
       "        vertical-align: middle;\n",
       "    }\n",
       "\n",
       "    .dataframe tbody tr th {\n",
       "        vertical-align: top;\n",
       "    }\n",
       "\n",
       "    .dataframe thead th {\n",
       "        text-align: right;\n",
       "    }\n",
       "</style>\n",
       "<table border=\"1\" class=\"dataframe\">\n",
       "  <thead>\n",
       "    <tr style=\"text-align: right;\">\n",
       "      <th></th>\n",
       "      <th>start_station_name</th>\n",
       "      <th>end_station_name</th>\n",
       "      <th>num</th>\n",
       "    </tr>\n",
       "  </thead>\n",
       "  <tbody>\n",
       "    <tr>\n",
       "      <th>0</th>\n",
       "      <td>Harry Bridges Plaza (Ferry Building)</td>\n",
       "      <td>2nd at Townsend</td>\n",
       "      <td>4605</td>\n",
       "    </tr>\n",
       "    <tr>\n",
       "      <th>1</th>\n",
       "      <td>San Francisco Caltrain 2 (330 Townsend)</td>\n",
       "      <td>Townsend at 7th</td>\n",
       "      <td>4103</td>\n",
       "    </tr>\n",
       "    <tr>\n",
       "      <th>2</th>\n",
       "      <td>Steuart at Market</td>\n",
       "      <td>2nd at Townsend</td>\n",
       "      <td>4048</td>\n",
       "    </tr>\n",
       "    <tr>\n",
       "      <th>3</th>\n",
       "      <td>San Francisco Caltrain (Townsend at 4th)</td>\n",
       "      <td>Temporary Transbay Terminal (Howard at Beale)</td>\n",
       "      <td>3581</td>\n",
       "    </tr>\n",
       "    <tr>\n",
       "      <th>4</th>\n",
       "      <td>San Francisco Caltrain (Townsend at 4th)</td>\n",
       "      <td>Embarcadero at Folsom</td>\n",
       "      <td>3443</td>\n",
       "    </tr>\n",
       "    <tr>\n",
       "      <th>5</th>\n",
       "      <td>Market at Sansome</td>\n",
       "      <td>2nd at South Park</td>\n",
       "      <td>3402</td>\n",
       "    </tr>\n",
       "    <tr>\n",
       "      <th>6</th>\n",
       "      <td>Harry Bridges Plaza (Ferry Building)</td>\n",
       "      <td>Embarcadero at Sansome</td>\n",
       "      <td>3120</td>\n",
       "    </tr>\n",
       "    <tr>\n",
       "      <th>7</th>\n",
       "      <td>San Francisco Caltrain (Townsend at 4th)</td>\n",
       "      <td>Harry Bridges Plaza (Ferry Building)</td>\n",
       "      <td>3084</td>\n",
       "    </tr>\n",
       "    <tr>\n",
       "      <th>8</th>\n",
       "      <td>Steuart at Market</td>\n",
       "      <td>Embarcadero at Sansome</td>\n",
       "      <td>3002</td>\n",
       "    </tr>\n",
       "    <tr>\n",
       "      <th>9</th>\n",
       "      <td>San Francisco Caltrain (Townsend at 4th)</td>\n",
       "      <td>Steuart at Market</td>\n",
       "      <td>2981</td>\n",
       "    </tr>\n",
       "    <tr>\n",
       "      <th>10</th>\n",
       "      <td>Mountain View Caltrain Station</td>\n",
       "      <td>Mountain View City Hall</td>\n",
       "      <td>2930</td>\n",
       "    </tr>\n",
       "    <tr>\n",
       "      <th>11</th>\n",
       "      <td>Civic Center BART (7th at Market)</td>\n",
       "      <td>Townsend at 7th</td>\n",
       "      <td>2894</td>\n",
       "    </tr>\n",
       "    <tr>\n",
       "      <th>12</th>\n",
       "      <td>San Francisco Caltrain (Townsend at 4th)</td>\n",
       "      <td>Market at Sansome</td>\n",
       "      <td>2798</td>\n",
       "    </tr>\n",
       "    <tr>\n",
       "      <th>13</th>\n",
       "      <td>San Francisco Caltrain 2 (330 Townsend)</td>\n",
       "      <td>Market at 10th</td>\n",
       "      <td>2776</td>\n",
       "    </tr>\n",
       "    <tr>\n",
       "      <th>14</th>\n",
       "      <td>San Francisco Caltrain (Townsend at 4th)</td>\n",
       "      <td>Howard at 2nd</td>\n",
       "      <td>2713</td>\n",
       "    </tr>\n",
       "    <tr>\n",
       "      <th>15</th>\n",
       "      <td>San Francisco Caltrain 2 (330 Townsend)</td>\n",
       "      <td>5th at Howard</td>\n",
       "      <td>2508</td>\n",
       "    </tr>\n",
       "    <tr>\n",
       "      <th>16</th>\n",
       "      <td>Powell Street BART</td>\n",
       "      <td>San Francisco Caltrain 2 (330 Townsend)</td>\n",
       "      <td>2455</td>\n",
       "    </tr>\n",
       "    <tr>\n",
       "      <th>17</th>\n",
       "      <td>San Francisco Caltrain 2 (330 Townsend)</td>\n",
       "      <td>Embarcadero at Folsom</td>\n",
       "      <td>2243</td>\n",
       "    </tr>\n",
       "    <tr>\n",
       "      <th>18</th>\n",
       "      <td>San Francisco Caltrain 2 (330 Townsend)</td>\n",
       "      <td>Howard at 2nd</td>\n",
       "      <td>2162</td>\n",
       "    </tr>\n",
       "    <tr>\n",
       "      <th>19</th>\n",
       "      <td>Temporary Transbay Terminal (Howard at Beale)</td>\n",
       "      <td>2nd at Townsend</td>\n",
       "      <td>2084</td>\n",
       "    </tr>\n",
       "    <tr>\n",
       "      <th>20</th>\n",
       "      <td>San Francisco Caltrain (Townsend at 4th)</td>\n",
       "      <td>Davis at Jackson</td>\n",
       "      <td>2007</td>\n",
       "    </tr>\n",
       "    <tr>\n",
       "      <th>21</th>\n",
       "      <td>San Francisco Caltrain 2 (330 Townsend)</td>\n",
       "      <td>Steuart at Market</td>\n",
       "      <td>1912</td>\n",
       "    </tr>\n",
       "    <tr>\n",
       "      <th>22</th>\n",
       "      <td>San Francisco Caltrain 2 (330 Townsend)</td>\n",
       "      <td>Temporary Transbay Terminal (Howard at Beale)</td>\n",
       "      <td>1881</td>\n",
       "    </tr>\n",
       "    <tr>\n",
       "      <th>23</th>\n",
       "      <td>San Jose Diridon Caltrain Station</td>\n",
       "      <td>Santa Clara at Almaden</td>\n",
       "      <td>1789</td>\n",
       "    </tr>\n",
       "    <tr>\n",
       "      <th>24</th>\n",
       "      <td>San Francisco Caltrain (Townsend at 4th)</td>\n",
       "      <td>Yerba Buena Center of the Arts (3rd @ Howard)</td>\n",
       "      <td>1780</td>\n",
       "    </tr>\n",
       "  </tbody>\n",
       "</table>\n",
       "</div>"
      ],
      "text/plain": [
       "                               start_station_name  \\\n",
       "0            Harry Bridges Plaza (Ferry Building)   \n",
       "1         San Francisco Caltrain 2 (330 Townsend)   \n",
       "2                               Steuart at Market   \n",
       "3        San Francisco Caltrain (Townsend at 4th)   \n",
       "4        San Francisco Caltrain (Townsend at 4th)   \n",
       "5                               Market at Sansome   \n",
       "6            Harry Bridges Plaza (Ferry Building)   \n",
       "7        San Francisco Caltrain (Townsend at 4th)   \n",
       "8                               Steuart at Market   \n",
       "9        San Francisco Caltrain (Townsend at 4th)   \n",
       "10                 Mountain View Caltrain Station   \n",
       "11              Civic Center BART (7th at Market)   \n",
       "12       San Francisco Caltrain (Townsend at 4th)   \n",
       "13        San Francisco Caltrain 2 (330 Townsend)   \n",
       "14       San Francisco Caltrain (Townsend at 4th)   \n",
       "15        San Francisco Caltrain 2 (330 Townsend)   \n",
       "16                             Powell Street BART   \n",
       "17        San Francisco Caltrain 2 (330 Townsend)   \n",
       "18        San Francisco Caltrain 2 (330 Townsend)   \n",
       "19  Temporary Transbay Terminal (Howard at Beale)   \n",
       "20       San Francisco Caltrain (Townsend at 4th)   \n",
       "21        San Francisco Caltrain 2 (330 Townsend)   \n",
       "22        San Francisco Caltrain 2 (330 Townsend)   \n",
       "23              San Jose Diridon Caltrain Station   \n",
       "24       San Francisco Caltrain (Townsend at 4th)   \n",
       "\n",
       "                                 end_station_name   num  \n",
       "0                                 2nd at Townsend  4605  \n",
       "1                                 Townsend at 7th  4103  \n",
       "2                                 2nd at Townsend  4048  \n",
       "3   Temporary Transbay Terminal (Howard at Beale)  3581  \n",
       "4                           Embarcadero at Folsom  3443  \n",
       "5                               2nd at South Park  3402  \n",
       "6                          Embarcadero at Sansome  3120  \n",
       "7            Harry Bridges Plaza (Ferry Building)  3084  \n",
       "8                          Embarcadero at Sansome  3002  \n",
       "9                               Steuart at Market  2981  \n",
       "10                        Mountain View City Hall  2930  \n",
       "11                                Townsend at 7th  2894  \n",
       "12                              Market at Sansome  2798  \n",
       "13                                 Market at 10th  2776  \n",
       "14                                  Howard at 2nd  2713  \n",
       "15                                  5th at Howard  2508  \n",
       "16        San Francisco Caltrain 2 (330 Townsend)  2455  \n",
       "17                          Embarcadero at Folsom  2243  \n",
       "18                                  Howard at 2nd  2162  \n",
       "19                                2nd at Townsend  2084  \n",
       "20                               Davis at Jackson  2007  \n",
       "21                              Steuart at Market  1912  \n",
       "22  Temporary Transbay Terminal (Howard at Beale)  1881  \n",
       "23                         Santa Clara at Almaden  1789  \n",
       "24  Yerba Buena Center of the Arts (3rd @ Howard)  1780  "
      ]
     },
     "execution_count": 31,
     "metadata": {},
     "output_type": "execute_result"
    }
   ],
   "source": [
    "morning_popular_trips"
   ]
  },
  {
   "cell_type": "code",
   "execution_count": 32,
   "metadata": {},
   "outputs": [
    {
     "data": {
      "image/png": "[encoded data removed]",
      "text/plain": [
       "<matplotlib.figure.Figure at 0x7f928dc05e80>"
      ]
     },
     "metadata": {},
     "output_type": "display_data"
    }
   ],
   "source": [
    "N = 25\n",
    "# Append pm to all the hours\n",
    "trip_stations = morning_popular_trips['start_station_name'] + ' - ' + morning_popular_trips['end_station_name']\n",
    "trip_nums = morning_popular_trips['num']\n",
    "ind = np.arange(N)    # the x locations for the groups\n",
    "\n",
    "p1 = plt.bar(ind, trip_nums)\n",
    "\n",
    "# Change color for the peak hours\n",
    "p1[0].set_color('r')\n",
    "p1[1].set_color('r')\n",
    "p1[2].set_color('r')\n",
    "p1[3].set_color('r')\n",
    "p1[4].set_color('r')\n",
    "\n",
    "plt.ylabel('Trips')\n",
    "plt.title('Q4 - Most Popular Trips - Morning')\n",
    "plt.xticks(ind, trip_stations, rotation='vertical')\n",
    "\n",
    "plt.show()"
   ]
  },
  {
   "cell_type": "markdown",
   "metadata": {},
   "source": [
    "## Evening ##"
   ]
  },
  {
   "cell_type": "code",
   "execution_count": 33,
   "metadata": {},
   "outputs": [
    {
     "name": "stdout",
     "output_type": "stream",
     "text": [
      "Waiting on bqjob_r2ed2c4a0f1b6e34f_00000161b2465f64_1 ... (0s) Current status: DONE   \n",
      "+------------------------+------------------------------------------+------+\n",
      "|   start_station_name   |             end_station_name             | num  |\n",
      "+------------------------+------------------------------------------+------+\n",
      "| 2nd at Townsend        | Harry Bridges Plaza (Ferry Building)     | 4268 |\n",
      "| Embarcadero at Folsom  | San Francisco Caltrain (Townsend at 4th) | 4088 |\n",
      "| Embarcadero at Sansome | Steuart at Market                        | 4009 |\n",
      "| 2nd at South Park      | Market at Sansome                        | 3510 |\n",
      "| Steuart at Market      | San Francisco Caltrain (Townsend at 4th) | 3469 |\n",
      "+------------------------+------------------------------------------+------+\n"
     ]
    }
   ],
   "source": [
    "! bq query --use_legacy_sql=FALSE 'SELECT \\\n",
    "  start_station_name, \\\n",
    "  end_station_name, \\\n",
    "  COUNT(*) num \\\n",
    "FROM \\\n",
    "  `bigquery-public-data.san_francisco.bikeshare_trips` \\\n",
    "WHERE \\\n",
    "  CAST( FORMAT_TIMESTAMP(\"%H\", \\\n",
    "      start_date) AS INT64) BETWEEN 16 AND 19 \\\n",
    "  AND LOWER(subscriber_type) = \"subscriber\" \\\n",
    "GROUP BY \\\n",
    "  start_station_name, \\\n",
    "  end_station_name \\\n",
    "ORDER BY \\\n",
    "  num DESC \\\n",
    "LIMIT \\\n",
    "  5'"
   ]
  },
  {
   "cell_type": "code",
   "execution_count": 34,
   "metadata": {},
   "outputs": [
    {
     "name": "stdout",
     "output_type": "stream",
     "text": [
      "\r",
      "Waiting on bqjob_r5b4749be6cf500e1_00000161b24669a5_1 ... (0s) Current status: DONE   "
     ]
    }
   ],
   "source": [
    "! bq query --use_legacy_sql=FALSE --format=csv 'SELECT \\\n",
    "  start_station_name, \\\n",
    "  end_station_name, \\\n",
    "  COUNT(*) num \\\n",
    "FROM \\\n",
    "  `bigquery-public-data.san_francisco.bikeshare_trips` \\\n",
    "WHERE \\\n",
    "  CAST( FORMAT_TIMESTAMP(\"%H\", \\\n",
    "      start_date) AS INT64) BETWEEN 16 AND 19 \\\n",
    "  AND LOWER(subscriber_type) = \"subscriber\" \\\n",
    "GROUP BY \\\n",
    "  start_station_name, \\\n",
    "  end_station_name \\\n",
    "ORDER BY \\\n",
    "  num DESC \\\n",
    "LIMIT 25 \\\n",
    "' > q4_evening.csv"
   ]
  },
  {
   "cell_type": "code",
   "execution_count": 35,
   "metadata": {},
   "outputs": [
    {
     "data": {
      "text/plain": [
       "(25, 3)"
      ]
     },
     "execution_count": 35,
     "metadata": {},
     "output_type": "execute_result"
    }
   ],
   "source": [
    "evening_popular_trips=pd.read_csv('q4_evening.csv')\n",
    "evening_popular_trips.shape"
   ]
  },
  {
   "cell_type": "code",
   "execution_count": 36,
   "metadata": {},
   "outputs": [
    {
     "data": {
      "text/html": [
       "<div>\n",
       "<style scoped>\n",
       "    .dataframe tbody tr th:only-of-type {\n",
       "        vertical-align: middle;\n",
       "    }\n",
       "\n",
       "    .dataframe tbody tr th {\n",
       "        vertical-align: top;\n",
       "    }\n",
       "\n",
       "    .dataframe thead th {\n",
       "        text-align: right;\n",
       "    }\n",
       "</style>\n",
       "<table border=\"1\" class=\"dataframe\">\n",
       "  <thead>\n",
       "    <tr style=\"text-align: right;\">\n",
       "      <th></th>\n",
       "      <th>start_station_name</th>\n",
       "      <th>end_station_name</th>\n",
       "      <th>num</th>\n",
       "    </tr>\n",
       "  </thead>\n",
       "  <tbody>\n",
       "    <tr>\n",
       "      <th>0</th>\n",
       "      <td>2nd at Townsend</td>\n",
       "      <td>Harry Bridges Plaza (Ferry Building)</td>\n",
       "      <td>4268</td>\n",
       "    </tr>\n",
       "    <tr>\n",
       "      <th>1</th>\n",
       "      <td>Embarcadero at Folsom</td>\n",
       "      <td>San Francisco Caltrain (Townsend at 4th)</td>\n",
       "      <td>4088</td>\n",
       "    </tr>\n",
       "    <tr>\n",
       "      <th>2</th>\n",
       "      <td>Embarcadero at Sansome</td>\n",
       "      <td>Steuart at Market</td>\n",
       "      <td>4009</td>\n",
       "    </tr>\n",
       "    <tr>\n",
       "      <th>3</th>\n",
       "      <td>2nd at South Park</td>\n",
       "      <td>Market at Sansome</td>\n",
       "      <td>3510</td>\n",
       "    </tr>\n",
       "    <tr>\n",
       "      <th>4</th>\n",
       "      <td>Steuart at Market</td>\n",
       "      <td>San Francisco Caltrain (Townsend at 4th)</td>\n",
       "      <td>3469</td>\n",
       "    </tr>\n",
       "    <tr>\n",
       "      <th>5</th>\n",
       "      <td>Market at 10th</td>\n",
       "      <td>San Francisco Caltrain 2 (330 Townsend)</td>\n",
       "      <td>3468</td>\n",
       "    </tr>\n",
       "    <tr>\n",
       "      <th>6</th>\n",
       "      <td>Temporary Transbay Terminal (Howard at Beale)</td>\n",
       "      <td>San Francisco Caltrain (Townsend at 4th)</td>\n",
       "      <td>3394</td>\n",
       "    </tr>\n",
       "    <tr>\n",
       "      <th>7</th>\n",
       "      <td>Townsend at 7th</td>\n",
       "      <td>San Francisco Caltrain 2 (330 Townsend)</td>\n",
       "      <td>3255</td>\n",
       "    </tr>\n",
       "    <tr>\n",
       "      <th>8</th>\n",
       "      <td>Howard at 2nd</td>\n",
       "      <td>San Francisco Caltrain (Townsend at 4th)</td>\n",
       "      <td>2860</td>\n",
       "    </tr>\n",
       "    <tr>\n",
       "      <th>9</th>\n",
       "      <td>Townsend at 7th</td>\n",
       "      <td>Civic Center BART (7th at Market)</td>\n",
       "      <td>2601</td>\n",
       "    </tr>\n",
       "    <tr>\n",
       "      <th>10</th>\n",
       "      <td>2nd at Townsend</td>\n",
       "      <td>Steuart at Market</td>\n",
       "      <td>2523</td>\n",
       "    </tr>\n",
       "    <tr>\n",
       "      <th>11</th>\n",
       "      <td>Townsend at 7th</td>\n",
       "      <td>San Francisco Caltrain (Townsend at 4th)</td>\n",
       "      <td>2473</td>\n",
       "    </tr>\n",
       "    <tr>\n",
       "      <th>12</th>\n",
       "      <td>Market at Sansome</td>\n",
       "      <td>San Francisco Caltrain (Townsend at 4th)</td>\n",
       "      <td>2458</td>\n",
       "    </tr>\n",
       "    <tr>\n",
       "      <th>13</th>\n",
       "      <td>San Francisco Caltrain 2 (330 Townsend)</td>\n",
       "      <td>Powell Street BART</td>\n",
       "      <td>2458</td>\n",
       "    </tr>\n",
       "    <tr>\n",
       "      <th>14</th>\n",
       "      <td>Mountain View City Hall</td>\n",
       "      <td>Mountain View Caltrain Station</td>\n",
       "      <td>2383</td>\n",
       "    </tr>\n",
       "    <tr>\n",
       "      <th>15</th>\n",
       "      <td>San Francisco Caltrain 2 (330 Townsend)</td>\n",
       "      <td>Townsend at 7th</td>\n",
       "      <td>2255</td>\n",
       "    </tr>\n",
       "    <tr>\n",
       "      <th>16</th>\n",
       "      <td>Steuart at Market</td>\n",
       "      <td>San Francisco Caltrain 2 (330 Townsend)</td>\n",
       "      <td>2191</td>\n",
       "    </tr>\n",
       "    <tr>\n",
       "      <th>17</th>\n",
       "      <td>Santa Clara at Almaden</td>\n",
       "      <td>San Jose Diridon Caltrain Station</td>\n",
       "      <td>2160</td>\n",
       "    </tr>\n",
       "    <tr>\n",
       "      <th>18</th>\n",
       "      <td>Temporary Transbay Terminal (Howard at Beale)</td>\n",
       "      <td>San Francisco Caltrain 2 (330 Townsend)</td>\n",
       "      <td>2128</td>\n",
       "    </tr>\n",
       "    <tr>\n",
       "      <th>19</th>\n",
       "      <td>Harry Bridges Plaza (Ferry Building)</td>\n",
       "      <td>San Francisco Caltrain (Townsend at 4th)</td>\n",
       "      <td>2111</td>\n",
       "    </tr>\n",
       "    <tr>\n",
       "      <th>20</th>\n",
       "      <td>Beale at Market</td>\n",
       "      <td>San Francisco Caltrain (Townsend at 4th)</td>\n",
       "      <td>2005</td>\n",
       "    </tr>\n",
       "    <tr>\n",
       "      <th>21</th>\n",
       "      <td>Embarcadero at Folsom</td>\n",
       "      <td>San Francisco Caltrain 2 (330 Townsend)</td>\n",
       "      <td>1979</td>\n",
       "    </tr>\n",
       "    <tr>\n",
       "      <th>22</th>\n",
       "      <td>2nd at Folsom</td>\n",
       "      <td>Market at Sansome</td>\n",
       "      <td>1885</td>\n",
       "    </tr>\n",
       "    <tr>\n",
       "      <th>23</th>\n",
       "      <td>Market at 10th</td>\n",
       "      <td>San Francisco Caltrain (Townsend at 4th)</td>\n",
       "      <td>1882</td>\n",
       "    </tr>\n",
       "    <tr>\n",
       "      <th>24</th>\n",
       "      <td>Clay at Battery</td>\n",
       "      <td>San Francisco Caltrain (Townsend at 4th)</td>\n",
       "      <td>1848</td>\n",
       "    </tr>\n",
       "  </tbody>\n",
       "</table>\n",
       "</div>"
      ],
      "text/plain": [
       "                               start_station_name  \\\n",
       "0                                 2nd at Townsend   \n",
       "1                           Embarcadero at Folsom   \n",
       "2                          Embarcadero at Sansome   \n",
       "3                               2nd at South Park   \n",
       "4                               Steuart at Market   \n",
       "5                                  Market at 10th   \n",
       "6   Temporary Transbay Terminal (Howard at Beale)   \n",
       "7                                 Townsend at 7th   \n",
       "8                                   Howard at 2nd   \n",
       "9                                 Townsend at 7th   \n",
       "10                                2nd at Townsend   \n",
       "11                                Townsend at 7th   \n",
       "12                              Market at Sansome   \n",
       "13        San Francisco Caltrain 2 (330 Townsend)   \n",
       "14                        Mountain View City Hall   \n",
       "15        San Francisco Caltrain 2 (330 Townsend)   \n",
       "16                              Steuart at Market   \n",
       "17                         Santa Clara at Almaden   \n",
       "18  Temporary Transbay Terminal (Howard at Beale)   \n",
       "19           Harry Bridges Plaza (Ferry Building)   \n",
       "20                                Beale at Market   \n",
       "21                          Embarcadero at Folsom   \n",
       "22                                  2nd at Folsom   \n",
       "23                                 Market at 10th   \n",
       "24                                Clay at Battery   \n",
       "\n",
       "                            end_station_name   num  \n",
       "0       Harry Bridges Plaza (Ferry Building)  4268  \n",
       "1   San Francisco Caltrain (Townsend at 4th)  4088  \n",
       "2                          Steuart at Market  4009  \n",
       "3                          Market at Sansome  3510  \n",
       "4   San Francisco Caltrain (Townsend at 4th)  3469  \n",
       "5    San Francisco Caltrain 2 (330 Townsend)  3468  \n",
       "6   San Francisco Caltrain (Townsend at 4th)  3394  \n",
       "7    San Francisco Caltrain 2 (330 Townsend)  3255  \n",
       "8   San Francisco Caltrain (Townsend at 4th)  2860  \n",
       "9          Civic Center BART (7th at Market)  2601  \n",
       "10                         Steuart at Market  2523  \n",
       "11  San Francisco Caltrain (Townsend at 4th)  2473  \n",
       "12  San Francisco Caltrain (Townsend at 4th)  2458  \n",
       "13                        Powell Street BART  2458  \n",
       "14            Mountain View Caltrain Station  2383  \n",
       "15                           Townsend at 7th  2255  \n",
       "16   San Francisco Caltrain 2 (330 Townsend)  2191  \n",
       "17         San Jose Diridon Caltrain Station  2160  \n",
       "18   San Francisco Caltrain 2 (330 Townsend)  2128  \n",
       "19  San Francisco Caltrain (Townsend at 4th)  2111  \n",
       "20  San Francisco Caltrain (Townsend at 4th)  2005  \n",
       "21   San Francisco Caltrain 2 (330 Townsend)  1979  \n",
       "22                         Market at Sansome  1885  \n",
       "23  San Francisco Caltrain (Townsend at 4th)  1882  \n",
       "24  San Francisco Caltrain (Townsend at 4th)  1848  "
      ]
     },
     "execution_count": 36,
     "metadata": {},
     "output_type": "execute_result"
    }
   ],
   "source": [
    "evening_popular_trips"
   ]
  },
  {
   "cell_type": "code",
   "execution_count": 37,
   "metadata": {},
   "outputs": [
    {
     "data": {
      "image/png": "[encoded data removed]",
      "text/plain": [
       "<matplotlib.figure.Figure at 0x7f928db8ada0>"
      ]
     },
     "metadata": {},
     "output_type": "display_data"
    }
   ],
   "source": [
    "N = 25\n",
    "# Append pm to all the hours\n",
    "trip_stations = evening_popular_trips['start_station_name'] + ' - ' + evening_popular_trips['end_station_name']\n",
    "trip_nums = evening_popular_trips['num']\n",
    "ind = np.arange(N)    # the x locations for the groups\n",
    "\n",
    "p1 = plt.bar(ind, trip_nums)\n",
    "\n",
    "# Change color for the peak hours\n",
    "p1[0].set_color('r')\n",
    "p1[1].set_color('r')\n",
    "p1[2].set_color('r')\n",
    "p1[3].set_color('r')\n",
    "p1[4].set_color('r')\n",
    "\n",
    "plt.ylabel('Trips')\n",
    "plt.title('Q4 - Most Popular Trips - Evening')\n",
    "plt.xticks(ind, trip_stations, rotation='vertical')\n",
    "\n",
    "plt.show()"
   ]
  },
  {
   "cell_type": "markdown",
   "metadata": {},
   "source": [
    "## Answer ##\n",
    "\n",
    "5 most popular trips taken by commtuters are as below:\n",
    "\n",
    "### Morning ###\n",
    "* Harry Bridges Plaza (Ferry Building) - 2nd at Townsend\n",
    "* San Francisco Caltrain 2 (330 Townsend) - Townsend at 7th\n",
    "* Steuart at Market - 2nd at Townsend\n",
    "* San Francisco Caltrain (Townsend at 4th) - Temporary Transbay Terminal (Howard at Beale)\n",
    "* San Francisco Caltrain (Townsend at 4th) - Embarcadero at Folsom\n",
    "\n",
    "### Evening ###\n",
    "* 2nd at Townsend - Harry Bridges Plaza (Ferry Building)\n",
    "* Embarcadero at Folsom - San Francisco Caltrain (Townsend at 4th)\n",
    "* Embarcadero at Sansome - Steuart at Market\n",
    "* 2nd at South Park - Market at Sansome\n",
    "* Steuart at Market - San Francisco Caltrain (Townsend at 4th)"
   ]
  },
  {
   "cell_type": "markdown",
   "metadata": {},
   "source": [
    "# Question 5: What is the average trip duration for non-commuters? #"
   ]
  },
  {
   "cell_type": "code",
   "execution_count": 1,
   "metadata": {},
   "outputs": [
    {
     "name": "stdout",
     "output_type": "stream",
     "text": [
      "Waiting on bqjob_r52dc3e39800f9c4b_00000161b247d4d1_1 ... (0s) Current status: DONE   \n",
      "+---------------+\n",
      "| trip_duration |\n",
      "+---------------+\n",
      "| 61.98         |\n",
      "+---------------+\n"
     ]
    }
   ],
   "source": [
    "! bq query --use_legacy_sql=FALSE 'SELECT \\\n",
    "  FORMAT(\"%.2F\", AVG(duration_sec)/60) trip_duration \\\n",
    "FROM \\\n",
    "  `bigquery-public-data.san_francisco.bikeshare_trips` \\\n",
    "WHERE \\\n",
    "  LOWER(subscriber_type) != \"subscriber\" \\\n",
    "  OR (CAST( FORMAT_TIMESTAMP(\"%H\", start_date) AS INT64) NOT BETWEEN 7 \\\n",
    "    AND 9 \\\n",
    "    AND CAST( FORMAT_TIMESTAMP(\"%H\", start_date) AS INT64) NOT BETWEEN 16 \\\n",
    "    AND 18 \\\n",
    "    AND subscriber_type = \"subscriber\" ) \\\n",
    "'"
   ]
  },
  {
   "cell_type": "code",
   "execution_count": 2,
   "metadata": {},
   "outputs": [
    {
     "name": "stdout",
     "output_type": "stream",
     "text": [
      "\r",
      "Waiting on bqjob_r5cdf3ad50815f8e4_00000161b2483d23_1 ... (0s) Current status: DONE   "
     ]
    }
   ],
   "source": [
    "! bq query --use_legacy_sql=FALSE --format=csv --max_rows=150000 'SELECT \\\n",
    "  FORMAT(\"%.2F\", duration_sec/60) trip_duration \\\n",
    "FROM \\\n",
    "  `bigquery-public-data.san_francisco.bikeshare_trips` \\\n",
    "WHERE \\\n",
    "  LOWER(subscriber_type) != \"subscriber\" \\\n",
    "  OR (CAST( FORMAT_TIMESTAMP(\"%H\", start_date) AS INT64) NOT BETWEEN 7 \\\n",
    "    AND 9 \\\n",
    "    AND CAST( FORMAT_TIMESTAMP(\"%H\", start_date) AS INT64) NOT BETWEEN 16 \\\n",
    "    AND 18 \\\n",
    "    AND subscriber_type = \"subscriber\" ) \\\n",
    "' > q5.csv"
   ]
  },
  {
   "cell_type": "code",
   "execution_count": 5,
   "metadata": {},
   "outputs": [
    {
     "data": {
      "text/plain": [
       "(136809, 1)"
      ]
     },
     "execution_count": 5,
     "metadata": {},
     "output_type": "execute_result"
    }
   ],
   "source": [
    "trip_duration_non_commuters=pd.read_csv('q5.csv')\n",
    "trip_duration_non_commuters.shape"
   ]
  },
  {
   "cell_type": "code",
   "execution_count": 6,
   "metadata": {},
   "outputs": [
    {
     "data": {
      "text/html": [
       "<div>\n",
       "<style scoped>\n",
       "    .dataframe tbody tr th:only-of-type {\n",
       "        vertical-align: middle;\n",
       "    }\n",
       "\n",
       "    .dataframe tbody tr th {\n",
       "        vertical-align: top;\n",
       "    }\n",
       "\n",
       "    .dataframe thead th {\n",
       "        text-align: right;\n",
       "    }\n",
       "</style>\n",
       "<table border=\"1\" class=\"dataframe\">\n",
       "  <thead>\n",
       "    <tr style=\"text-align: right;\">\n",
       "      <th></th>\n",
       "      <th>trip_duration</th>\n",
       "    </tr>\n",
       "  </thead>\n",
       "  <tbody>\n",
       "    <tr>\n",
       "      <th>0</th>\n",
       "      <td>1.0</td>\n",
       "    </tr>\n",
       "    <tr>\n",
       "      <th>1</th>\n",
       "      <td>1.0</td>\n",
       "    </tr>\n",
       "    <tr>\n",
       "      <th>2</th>\n",
       "      <td>1.0</td>\n",
       "    </tr>\n",
       "    <tr>\n",
       "      <th>3</th>\n",
       "      <td>1.0</td>\n",
       "    </tr>\n",
       "    <tr>\n",
       "      <th>4</th>\n",
       "      <td>1.0</td>\n",
       "    </tr>\n",
       "  </tbody>\n",
       "</table>\n",
       "</div>"
      ],
      "text/plain": [
       "   trip_duration\n",
       "0            1.0\n",
       "1            1.0\n",
       "2            1.0\n",
       "3            1.0\n",
       "4            1.0"
      ]
     },
     "execution_count": 6,
     "metadata": {},
     "output_type": "execute_result"
    }
   ],
   "source": [
    "trip_duration_non_commuters.head()"
   ]
  },
  {
   "cell_type": "code",
   "execution_count": 60,
   "metadata": {},
   "outputs": [
    {
     "data": {
      "image/png": "[encoded data removed]",
      "text/plain": [
       "<matplotlib.figure.Figure at 0x7fd696b803c8>"
      ]
     },
     "metadata": {},
     "output_type": "display_data"
    }
   ],
   "source": [
    "bins = [1, 5, 10, 25, 50, 100]\n",
    "hist = plt.hist(trip_duration_non_commuters['trip_duration'], bins, histtype='bar', rwidth=0.8)\n",
    "\n",
    "plt.xlabel('Trip Duration')\n",
    "plt.title('Q5 - Average Trip Duration - Non-Commuters')\n",
    "\n",
    "plt.show()"
   ]
  },
  {
   "cell_type": "code",
   "execution_count": 7,
   "metadata": {},
   "outputs": [
    {
     "data": {
      "text/plain": [
       "61.979755133068736"
      ]
     },
     "execution_count": 7,
     "metadata": {},
     "output_type": "execute_result"
    }
   ],
   "source": [
    "np.average(trip_duration_non_commuters)"
   ]
  },
  {
   "cell_type": "markdown",
   "metadata": {},
   "source": [
    "## Answer ##\n",
    "\n",
    "The average trip duration for non-commuters is 61.98 minutes."
   ]
  },
  {
   "cell_type": "markdown",
   "metadata": {},
   "source": [
    "# Question 6: What are the 5 most popular trips taken by non-commuters? #"
   ]
  },
  {
   "cell_type": "code",
   "execution_count": null,
   "metadata": {},
   "outputs": [],
   "source": [
    "! bq query --use_legacy_sql=FALSE 'SELECT \\\n",
    "  start_station_name, \\\n",
    "  end_station_name, \\\n",
    "  COUNT(*) num \\\n",
    "FROM \\\n",
    "  `bigquery-public-data.san_francisco.bikeshare_trips` \\\n",
    "WHERE \\\n",
    "  LOWER(subscriber_type) != \"subscriber\" \\\n",
    "  OR (CAST( FORMAT_TIMESTAMP(\"%H\", start_date) AS INT64) NOT BETWEEN 7 \\\n",
    "    AND 9 \\\n",
    "    AND CAST( FORMAT_TIMESTAMP(\"%H\", start_date) AS INT64) NOT BETWEEN 16 \\\n",
    "    AND 18 \\\n",
    "    AND subscriber_type = \"subscriber\" ) \\\n",
    "GROUP BY \\\n",
    "  start_station_name, \\\n",
    "  end_station_name \\\n",
    "ORDER BY \\\n",
    "  num DESC \\\n",
    "LIMIT \\\n",
    "  5 \\\n",
    "'"
   ]
  },
  {
   "cell_type": "code",
   "execution_count": 11,
   "metadata": {},
   "outputs": [
    {
     "name": "stdout",
     "output_type": "stream",
     "text": [
      "Waiting on bqjob_r760ff077ad09aa19_00000161b24d366c_1 ... (0s) Current status: DONE   "
     ]
    }
   ],
   "source": [
    "! bq query --use_legacy_sql=FALSE --format=csv 'SELECT \\\n",
    "  start_station_name, \\\n",
    "  end_station_name, \\\n",
    "  COUNT(*) num \\\n",
    "FROM \\\n",
    "  `bigquery-public-data.san_francisco.bikeshare_trips` \\\n",
    "WHERE \\\n",
    "  LOWER(subscriber_type) != \"subscriber\" \\\n",
    "  OR (CAST( FORMAT_TIMESTAMP(\"%H\", start_date) AS INT64) NOT BETWEEN 7 \\\n",
    "    AND 9 \\\n",
    "    AND CAST( FORMAT_TIMESTAMP(\"%H\", start_date) AS INT64) NOT BETWEEN 16 \\\n",
    "    AND 18 \\\n",
    "    AND subscriber_type = \"subscriber\" ) \\\n",
    "GROUP BY \\\n",
    "  start_station_name, \\\n",
    "  end_station_name \\\n",
    "ORDER BY \\\n",
    "  num DESC \\\n",
    "LIMIT \\\n",
    "  25 \\\n",
    "' > q6.csv"
   ]
  },
  {
   "cell_type": "code",
   "execution_count": 12,
   "metadata": {},
   "outputs": [
    {
     "data": {
      "text/plain": [
       "(25, 3)"
      ]
     },
     "execution_count": 12,
     "metadata": {},
     "output_type": "execute_result"
    }
   ],
   "source": [
    "most_popular_trips_non_commuters=pd.read_csv('q6.csv')\n",
    "most_popular_trips_non_commuters.shape"
   ]
  },
  {
   "cell_type": "code",
   "execution_count": 13,
   "metadata": {},
   "outputs": [
    {
     "data": {
      "text/html": [
       "<div>\n",
       "<style scoped>\n",
       "    .dataframe tbody tr th:only-of-type {\n",
       "        vertical-align: middle;\n",
       "    }\n",
       "\n",
       "    .dataframe tbody tr th {\n",
       "        vertical-align: top;\n",
       "    }\n",
       "\n",
       "    .dataframe thead th {\n",
       "        text-align: right;\n",
       "    }\n",
       "</style>\n",
       "<table border=\"1\" class=\"dataframe\">\n",
       "  <thead>\n",
       "    <tr style=\"text-align: right;\">\n",
       "      <th></th>\n",
       "      <th>start_station_name</th>\n",
       "      <th>end_station_name</th>\n",
       "      <th>num</th>\n",
       "    </tr>\n",
       "  </thead>\n",
       "  <tbody>\n",
       "    <tr>\n",
       "      <th>0</th>\n",
       "      <td>Harry Bridges Plaza (Ferry Building)</td>\n",
       "      <td>Embarcadero at Sansome</td>\n",
       "      <td>3667</td>\n",
       "    </tr>\n",
       "    <tr>\n",
       "      <th>1</th>\n",
       "      <td>Embarcadero at Sansome</td>\n",
       "      <td>Embarcadero at Sansome</td>\n",
       "      <td>2545</td>\n",
       "    </tr>\n",
       "    <tr>\n",
       "      <th>2</th>\n",
       "      <td>Harry Bridges Plaza (Ferry Building)</td>\n",
       "      <td>Harry Bridges Plaza (Ferry Building)</td>\n",
       "      <td>2004</td>\n",
       "    </tr>\n",
       "    <tr>\n",
       "      <th>3</th>\n",
       "      <td>Embarcadero at Sansome</td>\n",
       "      <td>Harry Bridges Plaza (Ferry Building)</td>\n",
       "      <td>1638</td>\n",
       "    </tr>\n",
       "    <tr>\n",
       "      <th>4</th>\n",
       "      <td>Embarcadero at Vallejo</td>\n",
       "      <td>Embarcadero at Sansome</td>\n",
       "      <td>1345</td>\n",
       "    </tr>\n",
       "    <tr>\n",
       "      <th>5</th>\n",
       "      <td>University and Emerson</td>\n",
       "      <td>University and Emerson</td>\n",
       "      <td>1113</td>\n",
       "    </tr>\n",
       "    <tr>\n",
       "      <th>6</th>\n",
       "      <td>Harry Bridges Plaza (Ferry Building)</td>\n",
       "      <td>Embarcadero at Vallejo</td>\n",
       "      <td>868</td>\n",
       "    </tr>\n",
       "    <tr>\n",
       "      <th>7</th>\n",
       "      <td>Steuart at Market</td>\n",
       "      <td>Embarcadero at Sansome</td>\n",
       "      <td>847</td>\n",
       "    </tr>\n",
       "    <tr>\n",
       "      <th>8</th>\n",
       "      <td>Market at 4th</td>\n",
       "      <td>Market at 4th</td>\n",
       "      <td>811</td>\n",
       "    </tr>\n",
       "    <tr>\n",
       "      <th>9</th>\n",
       "      <td>Market at 4th</td>\n",
       "      <td>Embarcadero at Sansome</td>\n",
       "      <td>770</td>\n",
       "    </tr>\n",
       "    <tr>\n",
       "      <th>10</th>\n",
       "      <td>Powell at Post (Union Square)</td>\n",
       "      <td>Powell at Post (Union Square)</td>\n",
       "      <td>769</td>\n",
       "    </tr>\n",
       "    <tr>\n",
       "      <th>11</th>\n",
       "      <td>Embarcadero at Vallejo</td>\n",
       "      <td>Embarcadero at Vallejo</td>\n",
       "      <td>703</td>\n",
       "    </tr>\n",
       "    <tr>\n",
       "      <th>12</th>\n",
       "      <td>Embarcadero at Sansome</td>\n",
       "      <td>Market at 4th</td>\n",
       "      <td>701</td>\n",
       "    </tr>\n",
       "    <tr>\n",
       "      <th>13</th>\n",
       "      <td>2nd at Townsend</td>\n",
       "      <td>Harry Bridges Plaza (Ferry Building)</td>\n",
       "      <td>689</td>\n",
       "    </tr>\n",
       "    <tr>\n",
       "      <th>14</th>\n",
       "      <td>Embarcadero at Bryant</td>\n",
       "      <td>Embarcadero at Sansome</td>\n",
       "      <td>679</td>\n",
       "    </tr>\n",
       "    <tr>\n",
       "      <th>15</th>\n",
       "      <td>Embarcadero at Sansome</td>\n",
       "      <td>Grant Avenue at Columbus Avenue</td>\n",
       "      <td>675</td>\n",
       "    </tr>\n",
       "    <tr>\n",
       "      <th>16</th>\n",
       "      <td>Embarcadero at Sansome</td>\n",
       "      <td>Steuart at Market</td>\n",
       "      <td>674</td>\n",
       "    </tr>\n",
       "    <tr>\n",
       "      <th>17</th>\n",
       "      <td>Powell Street BART</td>\n",
       "      <td>Powell Street BART</td>\n",
       "      <td>645</td>\n",
       "    </tr>\n",
       "    <tr>\n",
       "      <th>18</th>\n",
       "      <td>Market at Sansome</td>\n",
       "      <td>Embarcadero at Sansome</td>\n",
       "      <td>636</td>\n",
       "    </tr>\n",
       "    <tr>\n",
       "      <th>19</th>\n",
       "      <td>Steuart at Market</td>\n",
       "      <td>Steuart at Market</td>\n",
       "      <td>630</td>\n",
       "    </tr>\n",
       "    <tr>\n",
       "      <th>20</th>\n",
       "      <td>Powell at Post (Union Square)</td>\n",
       "      <td>Embarcadero at Sansome</td>\n",
       "      <td>619</td>\n",
       "    </tr>\n",
       "    <tr>\n",
       "      <th>21</th>\n",
       "      <td>Market at 4th</td>\n",
       "      <td>Harry Bridges Plaza (Ferry Building)</td>\n",
       "      <td>613</td>\n",
       "    </tr>\n",
       "    <tr>\n",
       "      <th>22</th>\n",
       "      <td>Embarcadero at Sansome</td>\n",
       "      <td>Embarcadero at Vallejo</td>\n",
       "      <td>608</td>\n",
       "    </tr>\n",
       "    <tr>\n",
       "      <th>23</th>\n",
       "      <td>Embarcadero at Sansome</td>\n",
       "      <td>2nd at Townsend</td>\n",
       "      <td>583</td>\n",
       "    </tr>\n",
       "    <tr>\n",
       "      <th>24</th>\n",
       "      <td>Embarcadero at Sansome</td>\n",
       "      <td>Powell at Post (Union Square)</td>\n",
       "      <td>576</td>\n",
       "    </tr>\n",
       "  </tbody>\n",
       "</table>\n",
       "</div>"
      ],
      "text/plain": [
       "                      start_station_name  \\\n",
       "0   Harry Bridges Plaza (Ferry Building)   \n",
       "1                 Embarcadero at Sansome   \n",
       "2   Harry Bridges Plaza (Ferry Building)   \n",
       "3                 Embarcadero at Sansome   \n",
       "4                 Embarcadero at Vallejo   \n",
       "5                 University and Emerson   \n",
       "6   Harry Bridges Plaza (Ferry Building)   \n",
       "7                      Steuart at Market   \n",
       "8                          Market at 4th   \n",
       "9                          Market at 4th   \n",
       "10         Powell at Post (Union Square)   \n",
       "11                Embarcadero at Vallejo   \n",
       "12                Embarcadero at Sansome   \n",
       "13                       2nd at Townsend   \n",
       "14                 Embarcadero at Bryant   \n",
       "15                Embarcadero at Sansome   \n",
       "16                Embarcadero at Sansome   \n",
       "17                    Powell Street BART   \n",
       "18                     Market at Sansome   \n",
       "19                     Steuart at Market   \n",
       "20         Powell at Post (Union Square)   \n",
       "21                         Market at 4th   \n",
       "22                Embarcadero at Sansome   \n",
       "23                Embarcadero at Sansome   \n",
       "24                Embarcadero at Sansome   \n",
       "\n",
       "                        end_station_name   num  \n",
       "0                 Embarcadero at Sansome  3667  \n",
       "1                 Embarcadero at Sansome  2545  \n",
       "2   Harry Bridges Plaza (Ferry Building)  2004  \n",
       "3   Harry Bridges Plaza (Ferry Building)  1638  \n",
       "4                 Embarcadero at Sansome  1345  \n",
       "5                 University and Emerson  1113  \n",
       "6                 Embarcadero at Vallejo   868  \n",
       "7                 Embarcadero at Sansome   847  \n",
       "8                          Market at 4th   811  \n",
       "9                 Embarcadero at Sansome   770  \n",
       "10         Powell at Post (Union Square)   769  \n",
       "11                Embarcadero at Vallejo   703  \n",
       "12                         Market at 4th   701  \n",
       "13  Harry Bridges Plaza (Ferry Building)   689  \n",
       "14                Embarcadero at Sansome   679  \n",
       "15       Grant Avenue at Columbus Avenue   675  \n",
       "16                     Steuart at Market   674  \n",
       "17                    Powell Street BART   645  \n",
       "18                Embarcadero at Sansome   636  \n",
       "19                     Steuart at Market   630  \n",
       "20                Embarcadero at Sansome   619  \n",
       "21  Harry Bridges Plaza (Ferry Building)   613  \n",
       "22                Embarcadero at Vallejo   608  \n",
       "23                       2nd at Townsend   583  \n",
       "24         Powell at Post (Union Square)   576  "
      ]
     },
     "execution_count": 13,
     "metadata": {},
     "output_type": "execute_result"
    }
   ],
   "source": [
    "most_popular_trips_non_commuters"
   ]
  },
  {
   "cell_type": "code",
   "execution_count": 14,
   "metadata": {},
   "outputs": [
    {
     "data": {
      "image/png": "[encoded data removed]",
      "text/plain": [
       "<matplotlib.figure.Figure at 0x7fd696ba0940>"
      ]
     },
     "metadata": {},
     "output_type": "display_data"
    }
   ],
   "source": [
    "N = 25\n",
    "# Append pm to all the hours\n",
    "trip_stations = most_popular_trips_non_commuters['start_station_name'] + ' - ' + most_popular_trips_non_commuters['end_station_name']\n",
    "trip_nums = most_popular_trips_non_commuters['num']\n",
    "ind = np.arange(N)    # the x locations for the groups\n",
    "\n",
    "p1 = plt.bar(ind, trip_nums)\n",
    "\n",
    "# Change color for the peak hours\n",
    "p1[0].set_color('r')\n",
    "p1[1].set_color('r')\n",
    "p1[2].set_color('r')\n",
    "p1[3].set_color('r')\n",
    "p1[4].set_color('r')\n",
    "\n",
    "plt.ylabel('Trips')\n",
    "plt.title('Q6 - Most Popular Trips - Non-Commuters')\n",
    "plt.xticks(ind, trip_stations, rotation='vertical')\n",
    "\n",
    "plt.show()"
   ]
  },
  {
   "cell_type": "markdown",
   "metadata": {},
   "source": [
    "## Answer ##\n",
    "\n",
    "5 popular trips taken by non-commuters are as below:\n",
    "\n",
    "* Harry Bridges Plaza (Ferry Building) - Embarcadero at Sansome\n",
    "* Embarcadero at Sansome - Embarcadero at Sansome\n",
    "* Harry Bridges Plaza (Ferry Building) - Harry Bridges Plaza (Ferry Building)\n",
    "* Embarcadero at Sansome - Harry Bridges Plaza (Ferry Building)\n",
    "* Embarcadero at Vallejo - Embarcadero at Sansome"
   ]
  }
 ],
 "metadata": {
  "kernelspec": {
   "display_name": "Python 3",
   "language": "python",
   "name": "python3"
  },
  "language_info": {
   "codemirror_mode": {
    "name": "ipython",
    "version": 3
   },
   "file_extension": ".py",
   "mimetype": "text/x-python",
   "name": "python",
   "nbconvert_exporter": "python",
   "pygments_lexer": "ipython3",
   "version": "3.5.2"
  }
 },
 "nbformat": 4,
 "nbformat_minor": 2
}
